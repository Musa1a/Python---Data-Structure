{
  "nbformat": 4,
  "nbformat_minor": 0,
  "metadata": {
    "colab": {
      "provenance": []
    },
    "kernelspec": {
      "name": "python3",
      "display_name": "Python 3"
    },
    "language_info": {
      "name": "python"
    }
  },
  "cells": [
    {
      "cell_type": "markdown",
      "source": [
        "#Data Types and Structures\n",
        "\n",
        "\n",
        "\n"
      ],
      "metadata": {
        "id": "tsoSafd5RYg7"
      }
    },
    {
      "cell_type": "markdown",
      "source": [
        "**Question-1**) **What are data structures, and why are they important?**\n",
        "- Data structures are specialized formats for organizing, processing, and storing data in a computer so it can be used efficiently. Common examples include arrays, linked lists, stacks, queues, trees, graphs, hash tables, and more.\n",
        "\n",
        "**Why are they important**\n",
        "\n",
        "  a.) **Efficiency**: The right data structure can significantly improve the performance of algorithms by optimizing data access and storage.\n",
        "\n",
        " b.) **Organization**: They help manage and organize data in ways that reflect real-world relationships.\n",
        "\n",
        "  c.) **Reusability**: Well-designed data structures can be reused across different programs or systems.\n",
        "\n",
        "\n",
        "  d.) **Problem Solving**: Many complex problems can be broken down and solved more easily using the appropriate data structure.\n",
        "\n",
        "   e.) **Scalability**: Efficient data structures are crucial for handling large amounts of data smoothly."
      ],
      "metadata": {
        "id": "-CIS8jyFu0dy"
      }
    },
    {
      "cell_type": "markdown",
      "source": [
        "**Question-2**) **Explain the difference between mutable and immutable data types with examples.**\n",
        "\n",
        " **Mutable Data Types:-**\n",
        " Mutable data types can be changed after they are created. This means you can modify, add, or remove elements without changing the object’s identity.\n",
        "\n",
        "  *Examples of Mutable Data Types in Python:\n",
        "\n",
        "*  List\n",
        "*  dictionary\n",
        "*  set\n",
        "\n",
        "Example:\n",
        "\n",
        "\n"
      ],
      "metadata": {
        "id": "IEXFQXqywS5P"
      }
    },
    {
      "cell_type": "code",
      "source": [
        "my_list = [1, 2, 3, 4, 5, 6, 7, 8]\n",
        "my_list.append(9)\n",
        "print(my_list)\n"
      ],
      "metadata": {
        "colab": {
          "base_uri": "https://localhost:8080/"
        },
        "id": "KfQjuu5TyAs1",
        "outputId": "c73c4495-bd7b-45d3-de39-d56403f173a9"
      },
      "execution_count": null,
      "outputs": [
        {
          "output_type": "stream",
          "name": "stdout",
          "text": [
            "[1, 2, 3, 4, 5, 6, 7, 8, 9]\n"
          ]
        }
      ]
    },
    {
      "cell_type": "markdown",
      "source": [
        "**Immutable data types:-**\n",
        "Immutable data types cannot be changed after they are created. Any operation that alters the data actually creates a new object\n",
        "\n",
        "*Example of immutable data types:\n",
        "\n",
        "\n",
        "* Integer\n",
        "\n",
        "* Float\n",
        "\n",
        "* String\n",
        "\n",
        "* Tuple\n",
        "\n",
        "* Boolean  \n",
        "\n",
        "Example:\n",
        "\n",
        "   \n",
        "\n",
        "\n",
        "\n",
        "\n",
        "\n"
      ],
      "metadata": {
        "id": "UlVL_lu2yIfM"
      }
    },
    {
      "cell_type": "code",
      "source": [
        "my_string = \"hello\"\n",
        "my_string += \" world\"\n",
        "print(my_string)"
      ],
      "metadata": {
        "colab": {
          "base_uri": "https://localhost:8080/"
        },
        "id": "RQz3IkR2zifK",
        "outputId": "32586581-8185-4273-9bd1-8d0653d724ea"
      },
      "execution_count": null,
      "outputs": [
        {
          "output_type": "stream",
          "name": "stdout",
          "text": [
            "hello world\n"
          ]
        }
      ]
    },
    {
      "cell_type": "markdown",
      "source": [
        "**Question-3**). **What are the main differences between lists and tuples in Python?**\n",
        "\n",
        "\n",
        "- The main difference between lists and tuples in Python is that lists are mutable (can be changed after creation) while tuples are immutable (cannot be changed after creation)\n",
        "\n",
        "**Mutability:-**\n",
        "\n",
        "\n",
        "*   List- You can add, remove, or modify elements in a list after it's created.\n",
        "*   Tuples- Once a tuple is created, its elements cannot be changed.\n",
        "\n",
        "**Syntax:-**\n",
        "\n",
        "\n",
        "*   List- Defined using square brackets [].\n",
        "*   Tuples-Defined using parentheses ().\n",
        "\n",
        "**Performance:-**\n",
        "\n",
        "\n",
        "*   List- Slower for iteration and more memory-intensive due to their mutability.\n",
        "*   Tuples- Faster for iteration and more memory-efficient due to their immutability.\n",
        "\n",
        "**Use Cases:-**\n",
        "\n",
        "\n",
        "\n",
        "*   List- Useful for situations where you need to modify the data structure, like adding or removing elements.\n",
        "*   Tuples- Best used when you need to guarantee that the data structure remains constant, like representing fixed sets of data.\n",
        "\n",
        "\n",
        "\n",
        "\n",
        "\n",
        "\n",
        "\n",
        "\n",
        "\n",
        "\n"
      ],
      "metadata": {
        "id": "TiNBO20czo__"
      }
    },
    {
      "cell_type": "markdown",
      "source": [
        "**Question-4**). **Describe how dictionaries store data.**\n",
        "\n",
        "\n",
        "- Dictionaries store data using a key-value pair system, and under the hood, they typically use a data structure called a hash table. Here's a breakdown of how it works:-\n",
        "\n",
        " Structure of a Dictionary:-\n",
        "\n",
        "   A dictionary is made up of entries where:\n",
        "\n",
        "*   Each key is unique.\n",
        "*  Each key maps to a specific value.\n",
        "\n",
        "Example of python:\n",
        "\n",
        "\n",
        "\n",
        "\n",
        "\n",
        "\n",
        "\n"
      ],
      "metadata": {
        "id": "rWVB5ich4YfF"
      }
    },
    {
      "cell_type": "code",
      "source": [
        "my_dict = {\"color\": \"purple\", \"size\": \"medium\"}"
      ],
      "metadata": {
        "id": "lnYXKHv86wkH"
      },
      "execution_count": 1,
      "outputs": []
    },
    {
      "cell_type": "markdown",
      "source": [
        "⚙️ How It Works Internally:-\n",
        "\n",
        "\n",
        "1. Hashing the Key:\n",
        "\n",
        "\n",
        "\n",
        "*  When you add a key to a dictionary, the key is passed through a hash function.\n",
        "\n",
        "* This function returns a hash code (a number), which determines where to store the value in memory.\n",
        "\n",
        "\n",
        "2. Indexing:\n",
        "\n",
        "\n",
        "*   The hash code is converted into an index in an internal array (the hash table).\n",
        "\n",
        "* The value is stored at that index.\n",
        "\n",
        "3. Fast Lookup:\n",
        "\n",
        "* When you access a value using a key, the key is hashed again to find the index.\n",
        "\n",
        "* The value at that index is returned quickly — usually in constant time, O(1).\n",
        "\n",
        "4. Collision Handling:\n",
        "\n",
        "* Two different keys might produce the same index (a collision).\n",
        "\n",
        "* Dictionaries use techniques like open addressing or chaining to resolve this and still store both values.\n",
        "\n",
        "5. Resizing:\n",
        "\n",
        "* As more items are added, the dictionary may need to resize its internal array to maintain performance.\n",
        "\n",
        "* This involves rehashing and moving entries to new positions.\n",
        "\n",
        "\n",
        "\n"
      ],
      "metadata": {
        "id": "MIQ9vSIv65NT"
      }
    },
    {
      "cell_type": "markdown",
      "source": [
        "**Question-5**). **Why might you use a set instead of a list in Python?**\n",
        "\n",
        "\n",
        "\n",
        "- You might use a set instead of a list in Python for several reasons, depending on what you're trying to do. Here's a breakdown:-\n",
        "\n",
        "🔹 1. Uniqueness-\n",
        "\n",
        "* Sets automatically remove duplicates.\n",
        "\n",
        "* If you need a collection of unique items, a set is ideal.\n",
        "\n",
        "🔹 2. Faster Lookup-\n",
        "\n",
        "* Sets are optimized for fast membership tests.\n",
        "\n",
        "* Checking if an item is in a set is much faster than checking in a list, especially with large datasets.\n",
        "\n",
        "🔹 3. Set Operations-\n",
        "\n",
        "* Sets support operations like union, intersection, difference, and symmetric difference, which are super useful for comparing groups of data.\n",
        "\n",
        "🔹 4. Cleaner Code for Certain Tasks-\n",
        "\n",
        "* If you're doing something like removing duplicates, checking overlap, or ensuring membership uniqueness, a set leads to cleaner, more readable code"
      ],
      "metadata": {
        "id": "Vnf9Lbao8REC"
      }
    },
    {
      "cell_type": "markdown",
      "source": [
        "**Question-6**). **What is a string in Python, and how is it different from a list?**\n",
        "\n",
        "\n",
        "- In Python, a string is a sequence of characters enclosed in quotes, like \"hello\" or 'world'. A list, on the other hand, is a sequence of elements (which can be of any type) enclosed in square brackets, like [1, 2, 3] or ['a', 'b', 'c'].\n",
        "\n",
        "Here’s a breakdown of the differences between a string and a list:\n",
        "\n",
        " String-\n",
        "\n",
        "* Represents text.\n",
        "\n",
        "* Immutable (you can't change individual characters).\n",
        "\n",
        "* Each element is a character.\n",
        "\n",
        "* Defined using single ('...'), double (\"...\"), or triple quotes ('''...''' or \"\"\"...\"\"\" for multi-line strings).\n",
        "\n"
      ],
      "metadata": {
        "id": "e4_cOpAX-f_g"
      }
    },
    {
      "cell_type": "code",
      "source": [
        "s = \"hello\"\n",
        "print(s[1])\n"
      ],
      "metadata": {
        "colab": {
          "base_uri": "https://localhost:8080/"
        },
        "id": "EGFFoRJB_3h_",
        "outputId": "4d59647a-92b9-461d-d796-b2d9e5463dc5"
      },
      "execution_count": 2,
      "outputs": [
        {
          "output_type": "stream",
          "name": "stdout",
          "text": [
            "e\n"
          ]
        }
      ]
    },
    {
      "cell_type": "markdown",
      "source": [
        " List-\n",
        "\n",
        "* Represents a collection of items (any type: integers, strings, other lists, etc.).\n",
        "\n",
        "* Mutable (you can change, add, or remove elements).\n",
        "\n",
        "* Defined using square brackets"
      ],
      "metadata": {
        "id": "riRwvLbY_8Jd"
      }
    },
    {
      "cell_type": "code",
      "source": [
        "lst = ['h', 'e', 'l', 'l', 'o']\n",
        "print(lst[1])  # Output: 'e'\n",
        "lst[1] = 'a'\n",
        "print(lst)     # Output: ['h', 'a', 'l', 'l', 'o']\n"
      ],
      "metadata": {
        "colab": {
          "base_uri": "https://localhost:8080/"
        },
        "id": "5Tz6EBWpAFe6",
        "outputId": "ba193057-e844-4ad7-f95f-21dafd76fc8a"
      },
      "execution_count": 3,
      "outputs": [
        {
          "output_type": "stream",
          "name": "stdout",
          "text": [
            "e\n",
            "['h', 'a', 'l', 'l', 'o']\n"
          ]
        }
      ]
    },
    {
      "cell_type": "markdown",
      "source": [
        "**Question-7**). **How do tuples ensure data integrity in Python?**\n",
        "\n",
        "\n",
        "- Tuples in Python help ensure data integrity through immutability—once a tuple is created, its contents cannot be changed. Here's how that contributes to data integrity:\n",
        "\n",
        " 1**. Immutability-**\n",
        "\n",
        "* Tuples are immutable—you can’t modify, add, or delete elements once the tuple is created.\n",
        "\n",
        "* This prevents accidental changes to data, making them ideal for representing fixed collections of items (like coordinates, RGB values, or database records).\n",
        "\n",
        " 2. **Hashability-**\n",
        "\n",
        "* Because tuples are immutable, they are hashable (if all their elements are hashable), which allows them to be used as keys in dictionaries or elements in sets.\n",
        "\n",
        "*  This is essential when you need consistent, unchangeable identifiers.\n",
        "\n",
        " 3. **Safer Shared Data-**\n",
        "\n",
        "* When passing data structures around in a program, using tuples guarantees that no part of your code can unintentionally change their content.\n",
        "\n",
        "* This is especially important in multithreaded or functional programming scenarios.\n",
        "\n",
        " 4. **Semantic Clarity-**\n",
        "\n",
        "* Tuples can signal that the data is a fixed group of related values, like a record, where changing the contents would not make sense.\n",
        "\n",
        "* This helps enforce logical integrity at a higher level of abstraction.\n",
        "\n",
        "\n",
        "\n",
        "\n",
        "\n"
      ],
      "metadata": {
        "id": "iVH8DrfBAJUK"
      }
    },
    {
      "cell_type": "markdown",
      "source": [
        "**Question-8**) **What is a hash table, and how does it relate to dictionaries in Python ?**\n",
        "\n",
        "- A hash table is a data structure that stores key-value pairs, using a hash function to map keys to indices in an array (or \"bucket\") for fast retrieval, and in Python, dictionaries are implemented using hash tables.\n",
        "\n",
        "Here's a more detailed explanation:\n",
        "\n",
        "**a.)What is a Hash Table?**\n",
        "\n",
        "* A hash table (also known as a hash map or associative array) is a data structure that stores key-value pairs.\n",
        "\n",
        "* It uses a hash function to determine the location (or \"bucket\") of a key-value pair within an array.\n",
        "\n",
        "* The hash function takes a key as input and returns an integer value (the hash code) which is used as an index into the array.\n",
        "\n",
        "* This allows for very fast lookups, insertions, and deletions, with an average time complexity of O(1) (constant time).\n",
        "\n",
        "**b.)How it relates to Dictionaries in Python:**\n",
        "\n",
        "* In Python, the built-in dict data type (dictionaries) is implemented using hash tables.\n",
        "\n",
        "* When you create a dictionary in Python, the keys are hashed to determine where they are stored in the underlying hash table.\n",
        "\n",
        "* This allows Python to quickly access the values associated with any given key.\n",
        "* The hash function ensures that keys are mapped to unique (or at least distinct) locations in the hash table.\n"
      ],
      "metadata": {
        "id": "9_jiliN0BvW9"
      }
    },
    {
      "source": [
        "my_dict = {\"apple\": 1, \"banana\": 2, \"cherry\": 3}\n",
        "print(my_dict[\"apple\"])"
      ],
      "cell_type": "code",
      "metadata": {
        "colab": {
          "base_uri": "https://localhost:8080/"
        },
        "id": "73INJqHEg3gu",
        "outputId": "b490a771-c9f6-4453-8112-881556d1b0e5"
      },
      "execution_count": 4,
      "outputs": [
        {
          "output_type": "stream",
          "name": "stdout",
          "text": [
            "1\n"
          ]
        }
      ]
    },
    {
      "cell_type": "markdown",
      "source": [
        "**Question-9**). **Can lists contain different data types in Python?**\n",
        "\n",
        "- Yes, in Python, lists can contain elements of different data types. This is one of the features that makes Python lists very flexible.\n",
        "\n",
        "Here’s an example of a list with mixed data types:\n",
        "\n",
        "\n",
        "\n",
        "```\n",
        "my_list = [42, \"hello\", 3.14, True, None, [1, 2, 3], {\"key\": \"value\"}]\n",
        "\n",
        "```\n",
        "\n",
        "In this list:\n",
        "\n",
        "* 42 is an integer\n",
        "\n",
        "* \"hello\" is a string\n",
        "\n",
        "* 3.14 is a float\n",
        "\n",
        "* True is a boolean\n",
        "\n",
        "* None is a NoneType\n",
        "\n",
        "* [1, 2, 3] is another list (nested list)\n",
        "\n",
        "* {\"key\": \"value\"} is a dictionary\n",
        "\n",
        "\n"
      ],
      "metadata": {
        "id": "Rvk04e5lDTOi"
      }
    },
    {
      "cell_type": "markdown",
      "source": [
        "**Question-10**). **Explain why strings are immutable in Python.**\n",
        "\n",
        "\n",
        "- Strings are immutable in Python for several important reasons related to performance, security, and language design. Here's a clear breakdown:\n",
        "\n",
        " 1. **Security and Hashing-**\n",
        "\n",
        "* Strings are often used as keys in dictionaries (e.g., my_dict[\"key\"] = value).\n",
        "\n",
        "* In order to be used as a key, an object must be hashable — meaning its hash value must never change.\n",
        "\n",
        "* If strings were mutable and someone changed the contents of a key, the hash would change, leading to data corruption or lookup errors.\n",
        "\n",
        " 2. **Performance and Memory Optimization-**\n",
        "\n",
        "* Python uses a technique called string interning: it stores some strings in memory only once to save space and speed up comparisons.\n",
        "\n",
        "* Immutable strings make this safe because the string content can’t change, so Python can reuse them confidently.\n",
        "\n",
        " 3. **Predictable and Bug-Free Code-**\n",
        "\n",
        "* If strings were mutable, changing a string in one place could unintentionally affect it somewhere else (if two variables reference the same string object).\n",
        "\n",
        "* Immutability avoids these side effects, making code more predictable and easier to debug.\n",
        "\n",
        " 4. **Encourages Clear Data Transformation-**\n",
        "\n",
        "* Because strings are immutable, every string modification returns a new string.\n",
        "\n",
        "* This reinforces a functional programming style, where data transformations don’t mutate original inputs"
      ],
      "metadata": {
        "id": "4ANhSmXRFMqh"
      }
    },
    {
      "cell_type": "markdown",
      "source": [
        "**Question-11**) **What advantages do dictionaries offer over lists for certain tasks?**\n",
        "\n",
        " 1. **Fast Lookup by Key-**\n",
        "\n",
        "* **Dictionaries** provide constant time (O(1)) access to values by key.\n",
        "\n",
        "* **Lists** require linear time (O(n)) to search for a value unless you already know the index.\n",
        "\n",
        "**Use dictionaries when you need to quickly retrieve data by a specific identifier**.\n",
        "\n",
        " 2. **More Meaningful Access-**\n",
        "\n",
        "* In **dictionaries**, keys can be descriptive (user[\"email\"]) which improves readability.\n",
        "\n",
        "* In **lists**, you access data by index (user[3]), which can be unclear and error-prone.\n",
        "\n",
        " **Dictionaries make code more self-documenting and maintainable.**\n",
        "\n",
        " 3. **Flexible Key Types-**\n",
        "\n",
        "* Dictionaries can use various **immutable types** as keys (e.g., strings, numbers, tuples).\n",
        "\n",
        "* Lists are indexed by **integers only**.\n",
        "\n",
        " **Better when data isn't naturally organized by position.**\n",
        "\n",
        " 4. **Better for Associative Data-**\n",
        "\n",
        "* Dictionaries are ideal for storing **key-value pairs** (e.g., configurations, records, JSON-style data).\n",
        "\n",
        "* Lists are better for **ordered collections** of items.\n",
        "\n",
        " **Think of dictionaries like mini-databases or objects in other languages.**\n",
        "\n",
        " 5.** Avoid Duplicates (in Keys)-**\n",
        "\n",
        "* Dictionary keys are **unique**, which prevents duplication automatically.\n",
        "\n",
        "* Lists allow duplicate entries.\n",
        "\n",
        "**Helps enforce data integrity when uniqueness is required.**"
      ],
      "metadata": {
        "id": "jPJH6klFGNby"
      }
    },
    {
      "cell_type": "markdown",
      "source": [
        "**Question12**). **Describe a scenario where using a tuple would be preferable over a list.**\n",
        "\n",
        "\n",
        "- A tuple would be preferable over a list in a scenario where immutability and data integrity are important.\n",
        "\n",
        "**📌 Scenario: Returning multiple values from a function-**\n",
        "\n",
        "Suppose you're writing a function that processes user login and returns both a status code and a message\n",
        "\n",
        "\n",
        "```\n",
        "def login(username, password):\n",
        "    if username == \"admin\" and password == \"12345\":\n",
        "        return (True, \"Login successful\")\n",
        "    else:\n",
        "        return (False, \"Invalid credentials\")\n",
        "\n",
        "```\n",
        " **✅ Why use a tuple here:**\n",
        "\n",
        "* **Fixed size and structure:** The function always returns exactly two values in the same order.\n",
        "\n",
        "* **Immutability:** The returned data shouldn't be changed by the caller.\n",
        "\n",
        "* **Efficiency:**Tuples are slightly more memory-efficient and faster for fixed-size collections.\n",
        "\n",
        "\n",
        "\n",
        "```\n",
        "status = login(\"admin\", \"12345\")\n",
        "status[0] = False  \n",
        "\n",
        "```\n",
        "\n"
      ],
      "metadata": {
        "id": "vDBYTz6xlxy1"
      }
    },
    {
      "cell_type": "markdown",
      "source": [
        "**Question13**). **How do sets handle duplicate values in Python?**\n",
        "\n",
        "\n",
        "- Sets in Python automatically remove duplicate values — they only store unique elements.\n",
        "\n",
        "**🔁 What happens with duplicates?**\n",
        "\n",
        "If you create a set or add items to one:\n",
        "\n",
        "* Any duplicate values are ignored.\n",
        "\n",
        "* The set will contain only one instance of each item.\n",
        "\n",
        "**🧪 Example:**\n",
        "\n"
      ],
      "metadata": {
        "id": "6DT8YBGfoA8J"
      }
    },
    {
      "cell_type": "code",
      "source": [
        "my_set = {1, 2, 2, 3, 4, 1}\n",
        "print(my_set)\n"
      ],
      "metadata": {
        "colab": {
          "base_uri": "https://localhost:8080/"
        },
        "id": "7BwFDEZLpGz7",
        "outputId": "9e0072a3-8b99-41d6-8b1e-2dcd716acafd"
      },
      "execution_count": null,
      "outputs": [
        {
          "output_type": "stream",
          "name": "stdout",
          "text": [
            "{1, 2, 3, 4}\n"
          ]
        }
      ]
    },
    {
      "cell_type": "markdown",
      "source": [
        "Even though 1 and 2 appear multiple times in the definition, only one of each is kept in the set\n",
        "\n",
        "**➕ Adding values:**"
      ],
      "metadata": {
        "id": "UgENTKqNpIbb"
      }
    },
    {
      "cell_type": "code",
      "source": [
        "my_set.add(3)  # 3 is already in the set\n",
        "print(my_set)\n"
      ],
      "metadata": {
        "colab": {
          "base_uri": "https://localhost:8080/"
        },
        "id": "nrGz6xXepTKN",
        "outputId": "6a5f1a8e-cea2-464d-d7bf-b88664f10265"
      },
      "execution_count": null,
      "outputs": [
        {
          "output_type": "stream",
          "name": "stdout",
          "text": [
            "{1, 2, 3, 4}\n"
          ]
        }
      ]
    },
    {
      "cell_type": "markdown",
      "source": [
        "**TL;DR:**\n",
        "\n",
        "* ✅ Sets = Unique values only\n",
        "\n",
        "* ❌ Duplicates are discarded\n",
        "\n",
        "* 🧠 Useful for deduplicating lists or checking membership fast"
      ],
      "metadata": {
        "id": "aFFCy0tHpUgu"
      }
    },
    {
      "cell_type": "markdown",
      "source": [
        "**Question14**). **How does the “in” keyword work differently for lists and dictionaries?**\n",
        "\n",
        "\n",
        "- The \"in\" keyword in Python is used to check for membership, but how it works depends on the type of the data structure—like lists vs dictionaries.\n",
        "\n",
        "**🔹 Lists-**\n",
        "\n",
        "When used with a list, in checks whether a value exists as an element in the list.\n"
      ],
      "metadata": {
        "id": "nUgiwQZRpkrA"
      }
    },
    {
      "cell_type": "code",
      "source": [
        "my_list = [1, 2, 3, 4]\n",
        "print(2 in my_list)\n",
        "print(5 in my_list)\n"
      ],
      "metadata": {
        "colab": {
          "base_uri": "https://localhost:8080/"
        },
        "id": "KNF_Sh-6qstk",
        "outputId": "cc3fdf9f-f5fc-4d3a-a676-580810345666"
      },
      "execution_count": null,
      "outputs": [
        {
          "output_type": "stream",
          "name": "stdout",
          "text": [
            "True\n",
            "False\n"
          ]
        }
      ]
    },
    {
      "cell_type": "markdown",
      "source": [
        "**🔹 Dictionaries-**\n",
        "\n",
        "When used with a dictionary, in checks whether a value exists as a key in the dictionary."
      ],
      "metadata": {
        "id": "qyn9OqNVq40H"
      }
    },
    {
      "cell_type": "code",
      "source": [
        "my_dict = {'a': 1, 'b': 2}\n",
        "print('a' in my_dict)\n",
        "print(1 in my_dict)\n"
      ],
      "metadata": {
        "colab": {
          "base_uri": "https://localhost:8080/"
        },
        "id": "xNR6rjhrq-x8",
        "outputId": "fd4d0190-9461-4e8c-fb78-5e942773cc23"
      },
      "execution_count": null,
      "outputs": [
        {
          "output_type": "stream",
          "name": "stdout",
          "text": [
            "True\n",
            "False\n"
          ]
        }
      ]
    },
    {
      "cell_type": "markdown",
      "source": [
        "**Question15**). **Can you modify the elements of a tuple? Explain why or why not.**\n",
        "\n",
        "\n",
        "- No, you cannot directly modify the elements of a tuple in Python because tuples are immutable meaning their elements cannot be changed after creation.\n",
        "\n",
        "Explanation:-\n",
        "\n",
        "**Immutability:**\n",
        "\n",
        "Tuples are designed to be immutable, meaning once a tuple is created, its elements cannot be altered, added to, or removed.\n",
        "\n",
        "**Purpose:**\n",
        "\n",
        "This immutability provides several advantages:\n",
        "\n",
        "* **Data Integrity:** Ensures that the data within a tuple remains consistent and predictable, preventing accidental or unintended changes.\n",
        "\n",
        "* **Hashing:** Immutable objects like tuples can be used as keys in dictionaries or as elements in sets because their hash values remain constant.\n",
        "\n",
        "* **Efficiency:** The immutability of tuples can lead to some performance optimizations in certain scenarios.\n",
        "\n",
        "**Alternative:**\n",
        "\n",
        "If you need a mutable sequence (where elements can be changed), you should use a list instead of a tuple.\n",
        "\n",
        "Example:\n",
        "\n",
        "\n",
        "```\n",
        "    my_tuple = (1, 2, 3)\n",
        "   \n",
        "```\n",
        "\n",
        "\n"
      ],
      "metadata": {
        "id": "HsNJtrx1rJcP"
      }
    },
    {
      "cell_type": "markdown",
      "source": [
        "**Question16**). **What is a nested dictionary, and give an example of its use case?**\n",
        "\n",
        "\n",
        "* A nested dictionary in Python is a dictionary where values can be another dictionary. This allows you to model more complex data structures, like hierarchical or structured data.\n",
        "\n",
        "**🧠 Why use a nested dictionary?**\n",
        "\n",
        "It helps organize data that has multiple levels of information. Think of it like a dictionary inside another dictionary — like a spreadsheet with multiple columns or an object with properties and sub-properties.\n",
        ":\n",
        "\n",
        "---\n",
        "\n",
        "**🔍 Example Use Case: Student Grades System- **\n",
        "\n",
        "Let’s say you’re building a simple system to store students and their grades in different subjects:\n",
        "\n",
        "\n",
        "\n",
        "```\n",
        "students = {\n",
        "    \"Adams\": {\n",
        "        \"Math\": 90,\n",
        "        \"Science\": 85,\n",
        "        \"English\": 88\n",
        "    },\n",
        "    \"Maddy\": {\n",
        "        \"Math\": 75,\n",
        "        \"Science\": 80,\n",
        "        \"English\": 78\n",
        "    }\n",
        "}\n",
        "```\n",
        "\n"
      ],
      "metadata": {
        "id": "8CSiLb2oss4g"
      }
    },
    {
      "cell_type": "markdown",
      "source": [
        "**Question17**). **Describe the time complexity of accessing elements in a dictionary.**\n",
        "\n",
        "\n",
        "* Accessing elements in a dictionary (also known as a hash map) in most programming languages like Python typically has the following time complexity:\n",
        "\n",
        "**🕒 Time Complexity:**\n",
        "\n",
        "* Average case: O(1) — constant time\n",
        "\n",
        "* Worst case: O(n) — linear time\n",
        "\n",
        "**💡 Why?**\n",
        "\n",
        "**Average case (O(1)):**\n",
        "\n",
        "* Dictionaries use hashing to map keys to values. When you access an element like my_dict[key], the key is hashed, and the hash is used to directly index into an array, allowing for constant time access in most cases.\n",
        "\n",
        "**Worst case (O(n)):**\n",
        "\n",
        "* In rare scenarios, multiple keys can hash to the same index (called a hash collision). If many collisions occur and are poorly handled (e.g., via linked lists or open addressing with high load factor), lookups can degrade to linear time. However, modern implementations (like Python’s dict) use techniques to mitigate this, making the worst case uncommon."
      ],
      "metadata": {
        "id": "VMHPiQKktwVo"
      }
    },
    {
      "cell_type": "markdown",
      "source": [
        "**Question18**). **In what situations are lists preferred over dictionaries?**\n",
        "\n",
        "- Lists and dictionaries in Python serve different purposes, and choosing one over the other depends on the use case. Here are situations where lists are preferred over dictionaries:\n",
        "\n",
        "**✅ 1. Order Matters-**\n",
        "\n",
        "* Use a list when the order of elements is important.\n",
        "\n",
        "* Example: Maintaining a queue or processing items in sequence\n",
        "\n",
        "\n",
        "```\n",
        "tasks = ['write', 'edit', 'submit']\n",
        "\n",
        "```\n",
        "\n",
        "**✅ 2. Simple Collections of Items-**\n",
        "\n",
        "* Lists are great when you're dealing with simple, homogeneous data like numbers or strings without the need for labels.\n",
        "\n",
        "* Example: Storing names or scores.\n",
        "\n",
        "\n",
        "```\n",
        "scores = [95, 87, 78]\n",
        "\n",
        "```\n",
        "**✅ 3. Positional Access-**\n",
        "\n",
        "* If you frequently access items by index, lists are ideal.\n",
        "\n",
        "\n",
        "```\n",
        "first_score = scores[0]\n",
        "\n",
        "```\n",
        "**✅ 4. Iteration Without Keys-**\n",
        "\n",
        "* Lists are optimal for straightforward looping through items where keys/labels aren’t necessary.\n",
        "\n",
        "\n",
        "```\n",
        "for score in scores:\n",
        "    print(score)\n",
        "\n",
        "```\n",
        "\n",
        "\n",
        "**✅ 5. Memory Efficiency-**\n",
        "\n",
        "* Lists are generally more memory-efficient than dictionaries, especially for large collections of simple values.\n",
        "\n",
        "**✅ 6. Need for Sorting-**\n",
        "\n",
        "* Lists can be sorted easily with .sort() or sorted(). Dictionaries can only be sorted by keys or values with extra effort.\n",
        "\n",
        "\n",
        "```\n",
        "scores.sort()\n",
        "\n",
        "```\n",
        "\n",
        "**✅ 7. Stack or Queue Implementation-**\n",
        "\n",
        "* Lists work well for implementing stacks (LIFO) and queues (FIFO) using append(), pop(), and pop(0).\n",
        "\n",
        "\n",
        "\n",
        "```\n",
        "stack = []\n",
        "stack.append('a')\n",
        "stack.pop()  # LIFO\n",
        "\n",
        "```\n",
        "\n",
        "\n",
        "\n",
        "\n",
        "\n",
        "\n",
        "\n",
        "\n",
        "\n",
        "\n"
      ],
      "metadata": {
        "id": "n4LJoaduudi8"
      }
    },
    {
      "cell_type": "markdown",
      "source": [
        "**Question19**). **Why are dictionaries considered unordered, and how does that affect data retrieval?**\n",
        "\n",
        "- Dictionaries in Python (and many other languages) are traditionally considered unordered because they do not maintain the order of the items as inserted (at least in versions before Python 3.7). Let's break this down a bit:\n",
        "\n",
        "**🧠 Why were dictionaries considered unordered?**\n",
        "\n",
        "* Hash tables: Dictionaries are implemented using hash tables under the hood. When you insert a key-value pair, the key gets hashed, and the result determines where it’s stored in memory.\n",
        "\n",
        "* No guaranteed order: In versions before Python 3.7, the internal mechanics of the hash table didn’t guarantee any consistent order of items when iterating over the dictionary.\n",
        "\n",
        "* So even if you inserted items in a specific order, you couldn’t count on retrieving them in the same order later.\n",
        "\n",
        "**🐍 But starting in Python 3.7…**\n",
        "\n",
        "* Python guarantees insertion order for dictionaries. That means if you insert keys in a particular sequence, iterating over the dictionary will return keys in that same sequence.\n",
        "\n",
        "* Even though dictionaries maintain order now, they’re still optimized for fast key-based retrieval, not for ordering or sorting.\n",
        "\n",
        "**📌 How does this affect data retrieval?**\n",
        "\n",
        "* Key-based access is constant time (O(1)) because of hashing. You can quickly retrieve values using their keys, regardless of the order.\n",
        "\n",
        "* If you want to retrieve items in a specific order (e.g., sorted by keys or values), you’ll need to use functions like sorted() or use an OrderedDict (in some use cases, though it's less needed post-3.7)."
      ],
      "metadata": {
        "id": "UbclTA_Wwa83"
      }
    },
    {
      "cell_type": "markdown",
      "source": [
        "**Question20**). **Explain the difference between a list and a dictionary in terms of data retrieval.**\n",
        "\n",
        "- The main difference between a list and a dictionary in terms of data retrieval lies in how you access the data and how fast that access is:\n",
        "\n",
        "**🔢 List:**\n",
        "\n",
        "* A list is an ordered collection of elements.\n",
        "\n",
        "* Data is retrieved using index positions (e.g., my_list[2] gives the third element).\n",
        "\n",
        "* Indexes are integers, starting at 0.\n",
        "\n",
        "* Retrieval time is O(1) (constant time) if you know the index.\n",
        "\n",
        "* You usually have to search (O(n)) if you're looking for a specific value and don’t know its index.\n",
        "\n",
        "Example:\n",
        "\n",
        "\n",
        "```\n",
        "my_list = ['apple', 'banana', 'cherry']\n",
        "print(my_list[1])  # Output: 'banana'\n",
        "\n",
        "```\n",
        "🔑 Dictionary:\n",
        "\n",
        "A dictionary is an unordered collection of key-value pairs (in Python 3.7+, it preserves insertion order, but conceptually it's still based on key-value access).\n",
        "\n",
        "Data is retrieved using keys (e.g., my_dict['fruit']).\n",
        "\n",
        "Keys can be strings, numbers, or other immutable types.\n",
        "\n",
        "Retrieval time is O(1) on average, thanks to the underlying hash table mechanism.\n",
        "\n",
        "Example:\n",
        "\n",
        "\n",
        "```\n",
        "my_dict = {'fruit': 'banana', 'color': 'yellow'}\n",
        "print(my_dict['fruit'])  # Output: 'banana'\n",
        "\n",
        "```"
      ],
      "metadata": {
        "id": "MeWW0j1bxL3r"
      }
    },
    {
      "cell_type": "markdown",
      "source": [],
      "metadata": {
        "id": "h1WdgWO_zQNx"
      }
    },
    {
      "source": [
        "#1. Write a code to create a string with your name and print it.\n",
        "name = \"Musadiq Rashid\"\n",
        "print(name)"
      ],
      "cell_type": "code",
      "metadata": {
        "colab": {
          "base_uri": "https://localhost:8080/"
        },
        "id": "VpmMCBcbFsXq",
        "outputId": "544d5897-6f3e-4ca4-de90-8b6d36d7a4e1"
      },
      "execution_count": null,
      "outputs": [
        {
          "output_type": "stream",
          "name": "stdout",
          "text": [
            "Musadiq Rashid\n"
          ]
        }
      ]
    },
    {
      "cell_type": "code",
      "source": [
        "#2. Write a code to find the length of the string \"Hello World\"\n",
        "string = \"Hello World\"\n",
        "print(len(string))"
      ],
      "metadata": {
        "colab": {
          "base_uri": "https://localhost:8080/"
        },
        "id": "ZN7L4Pk0I_VC",
        "outputId": "bd4b576e-d4bd-4d3c-ae6f-40144a7b21e6"
      },
      "execution_count": null,
      "outputs": [
        {
          "output_type": "stream",
          "name": "stdout",
          "text": [
            "11\n"
          ]
        }
      ]
    },
    {
      "cell_type": "code",
      "source": [
        "#3. Write a code to slice the first 3 characters from the string \"Python Programming\"\n",
        "string = \"Python Programming\"\n",
        "sliced_string = string[:3]\n",
        "print(sliced_string)"
      ],
      "metadata": {
        "colab": {
          "base_uri": "https://localhost:8080/"
        },
        "id": "pLWh2PJOJWkz",
        "outputId": "ec0e0bcb-c166-4f9c-bb85-d36ed4d99d7f"
      },
      "execution_count": null,
      "outputs": [
        {
          "output_type": "stream",
          "name": "stdout",
          "text": [
            "Pyt\n"
          ]
        }
      ]
    },
    {
      "cell_type": "code",
      "source": [
        "#4. Write a code to convert the string \"hello\" to uppercase\n",
        "string = \"hello\"\n",
        "uppercase_string = string.upper()\n",
        "print(uppercase_string)"
      ],
      "metadata": {
        "colab": {
          "base_uri": "https://localhost:8080/"
        },
        "id": "QHaZiVD0JxvT",
        "outputId": "79eb93b3-45ba-4c33-bc28-d6246fe06ad5"
      },
      "execution_count": null,
      "outputs": [
        {
          "output_type": "stream",
          "name": "stdout",
          "text": [
            "HELLO\n"
          ]
        }
      ]
    },
    {
      "cell_type": "code",
      "source": [
        "#5.  Write a code to replace the word \"apple\" with \"orange\" in the string \"I like apple\"\n",
        "string = \"I like apple\"\n",
        "replaced_string = string.replace(\"apple\", \"orange\")\n",
        "print(replaced_string)"
      ],
      "metadata": {
        "colab": {
          "base_uri": "https://localhost:8080/"
        },
        "id": "78hLtB7PKAyT",
        "outputId": "8cf71746-7b1e-48db-bf7a-577821d808fd"
      },
      "execution_count": null,
      "outputs": [
        {
          "output_type": "stream",
          "name": "stdout",
          "text": [
            "I like orange\n"
          ]
        }
      ]
    },
    {
      "cell_type": "code",
      "source": [
        "#6. P Write a code to create a list with numbers 1 to 5 and print it\n",
        "list = [1, 2, 3, 4, 5]\n",
        "print(list)"
      ],
      "metadata": {
        "colab": {
          "base_uri": "https://localhost:8080/"
        },
        "id": "tzkSWaPKKJqr",
        "outputId": "28d237dc-ada1-4fa4-bd22-595ae38953ca"
      },
      "execution_count": null,
      "outputs": [
        {
          "output_type": "stream",
          "name": "stdout",
          "text": [
            "[1, 2, 3, 4, 5]\n"
          ]
        }
      ]
    },
    {
      "cell_type": "code",
      "source": [
        "#7. Write a code to append the number 10 to the list [1, 2, 3, 4]\n",
        "list = [1, 2, 3, 4]\n",
        "list.append(10)\n",
        "print(list)"
      ],
      "metadata": {
        "colab": {
          "base_uri": "https://localhost:8080/"
        },
        "id": "con24dboKdxS",
        "outputId": "e7c29d53-013d-452f-9b0f-3b57d8dea90d"
      },
      "execution_count": null,
      "outputs": [
        {
          "output_type": "stream",
          "name": "stdout",
          "text": [
            "[1, 2, 3, 4, 10]\n"
          ]
        }
      ]
    },
    {
      "cell_type": "code",
      "source": [
        "#8. Write a code to remove the number 3 from the list [1, 2, 3, 4, 5]\n",
        "list = [1, 2, 3, 4, 5]\n",
        "list.remove(3)\n",
        "print(list)"
      ],
      "metadata": {
        "colab": {
          "base_uri": "https://localhost:8080/"
        },
        "id": "DxJxqQgmK2c4",
        "outputId": "c2ddf39a-48f7-4fda-e12f-05a4445b8ebc"
      },
      "execution_count": null,
      "outputs": [
        {
          "output_type": "stream",
          "name": "stdout",
          "text": [
            "[1, 2, 4, 5]\n"
          ]
        }
      ]
    },
    {
      "cell_type": "code",
      "source": [
        "#9. Write a code to access the second element in the list ['a', 'b', 'c', 'd', 'e',]\n",
        "list = ['a', 'b', 'c', 'd', 'e',]\n",
        "second_element = list[1]\n",
        "print(second_element)"
      ],
      "metadata": {
        "colab": {
          "base_uri": "https://localhost:8080/"
        },
        "id": "gFkhtdosLQhZ",
        "outputId": "d106ff27-c65a-4d1f-e27a-4e8c706c4527"
      },
      "execution_count": null,
      "outputs": [
        {
          "output_type": "stream",
          "name": "stdout",
          "text": [
            "b\n"
          ]
        }
      ]
    },
    {
      "cell_type": "code",
      "source": [
        "#10. Write a code to reverse the list [10, 20, 30, 40, 50].\n",
        "list = [10, 20, 30, 40, 50]\n",
        "reversed_list = list[::-1]\n",
        "print(reversed_list)"
      ],
      "metadata": {
        "colab": {
          "base_uri": "https://localhost:8080/"
        },
        "id": "JSP7AqGnLwGs",
        "outputId": "e682f710-94ef-42c0-f828-c14365e95732"
      },
      "execution_count": null,
      "outputs": [
        {
          "output_type": "stream",
          "name": "stdout",
          "text": [
            "[50, 40, 30, 20, 10]\n"
          ]
        }
      ]
    },
    {
      "cell_type": "code",
      "source": [
        "#11. Write a code to create a tuple with the elements 100, 200, 300 and print it.\n",
        "tuple = (100, 200, 300)\n",
        "print(tuple)"
      ],
      "metadata": {
        "colab": {
          "base_uri": "https://localhost:8080/"
        },
        "id": "EEoqZaxqLvze",
        "outputId": "b8f8ac29-bf77-46c7-cf0f-a875f7c5f5d2"
      },
      "execution_count": null,
      "outputs": [
        {
          "output_type": "stream",
          "name": "stdout",
          "text": [
            "(100, 200, 300)\n"
          ]
        }
      ]
    },
    {
      "cell_type": "code",
      "source": [
        "#12.  Write a code to access the second-to-last element of the tuple ('red', 'green', 'blue', 'yellow').\n",
        "tuple = ('red', 'green', 'blue', 'yellow')\n",
        "second_to_last = tuple[-2]\n",
        "print(second_to_last)"
      ],
      "metadata": {
        "colab": {
          "base_uri": "https://localhost:8080/"
        },
        "id": "b4O9tANfNAfj",
        "outputId": "3d8e09ce-88d2-41ac-df18-779ae61c2a38"
      },
      "execution_count": null,
      "outputs": [
        {
          "output_type": "stream",
          "name": "stdout",
          "text": [
            "blue\n"
          ]
        }
      ]
    },
    {
      "cell_type": "code",
      "source": [
        "#13. Write a code to find the minimum number in the tuple (10, 20, 5, 15).\n",
        "tuple = (10, 20, 5, 15)\n",
        "minimum = min(tuple)\n",
        "print(minimum)"
      ],
      "metadata": {
        "colab": {
          "base_uri": "https://localhost:8080/"
        },
        "id": "djYIzBCpNRXO",
        "outputId": "79581ca6-53a4-400a-e9c7-f5db91cf71d0"
      },
      "execution_count": null,
      "outputs": [
        {
          "output_type": "stream",
          "name": "stdout",
          "text": [
            "5\n"
          ]
        }
      ]
    },
    {
      "cell_type": "code",
      "source": [
        "#14.  Write a code to find the index of the element \"cat\" in the tuple ('dog', 'cat', 'rabbit').\n",
        "tuple = ('dog', 'cat', 'rabbit')\n",
        "index = tuple.index(\"cat\")\n",
        "print(index)"
      ],
      "metadata": {
        "colab": {
          "base_uri": "https://localhost:8080/"
        },
        "id": "wzsQ4bq8Ngxu",
        "outputId": "8e45351a-3dbd-4fd0-893f-a4dcf19bb39b"
      },
      "execution_count": null,
      "outputs": [
        {
          "output_type": "stream",
          "name": "stdout",
          "text": [
            "1\n"
          ]
        }
      ]
    },
    {
      "cell_type": "code",
      "source": [
        "#15. Write a code to create a tuple containing three different fruits and check if \"kiwi\" is in it.\n",
        "tuple = (\"apple\", \"banana\", \"orange\")  # Create the tuple\n",
        "\n",
        "if \"kiwi\" in tuple:\n",
        "    print(\"Kiwi is in the tuple\")\n",
        "else:\n",
        "    print(\"Kiwi is not in the tuple\")"
      ],
      "metadata": {
        "colab": {
          "base_uri": "https://localhost:8080/"
        },
        "id": "qfrM1vG2N1bM",
        "outputId": "8cff2e33-2e37-4357-8771-0ebd192b7c27"
      },
      "execution_count": null,
      "outputs": [
        {
          "output_type": "stream",
          "name": "stdout",
          "text": [
            "Kiwi is not in the tuple\n"
          ]
        }
      ]
    },
    {
      "source": [
        "#16. Write a code to create a set with the elements 'a', 'b', 'c' and print it.\n",
        "set = {'a', 'b', 'c'}\n",
        "print(set)"
      ],
      "cell_type": "code",
      "metadata": {
        "colab": {
          "base_uri": "https://localhost:8080/"
        },
        "id": "WF2QPAzSOOe8",
        "outputId": "f6097917-85b1-42de-cfd9-75f4a8df9fc1"
      },
      "execution_count": null,
      "outputs": [
        {
          "output_type": "stream",
          "name": "stdout",
          "text": [
            "{'c', 'b', 'a'}\n"
          ]
        }
      ]
    },
    {
      "cell_type": "code",
      "source": [
        "#17. Write a code to clear all elements from the set {1, 2, 3, 4, 5}.\n",
        "set = {1, 2, 3, 4, 5}  # Create the set\n",
        "\n",
        "set.clear()  # Remove all elements\n",
        "\n",
        "print(set)  # Output: set()"
      ],
      "metadata": {
        "colab": {
          "base_uri": "https://localhost:8080/"
        },
        "id": "_MbDxQCTP0Nx",
        "outputId": "dca0bd47-aeb6-41ba-9e69-6797d892ffe5"
      },
      "execution_count": null,
      "outputs": [
        {
          "output_type": "stream",
          "name": "stdout",
          "text": [
            "set()\n"
          ]
        }
      ]
    },
    {
      "source": [
        "#18. Write a code to remove the element 4 from the set {1, 2, 3, 4}.\n",
        "\n",
        "set = {1, 2, 3, 4}  # Create the set\n",
        "\n",
        "set.remove(4)  # Remove the element 4\n",
        "\n",
        "print(set)  # Output: {1, 2, 3}"
      ],
      "cell_type": "code",
      "metadata": {
        "colab": {
          "base_uri": "https://localhost:8080/"
        },
        "id": "1lFSGbBfP-G_",
        "outputId": "380267e3-a53f-4f9d-8386-58983b9b2065"
      },
      "execution_count": null,
      "outputs": [
        {
          "output_type": "stream",
          "name": "stdout",
          "text": [
            "{1, 2, 3}\n"
          ]
        }
      ]
    },
    {
      "cell_type": "code",
      "source": [
        "#19. Write a code to find the union of two sets {1, 2, 3} and {3, 4, 5}.\n",
        "\n",
        "set1 = {1, 2, 3}\n",
        "set2 = {3, 4, 5}\n",
        "\n",
        "union_set = set1.union(set2)  # or union_set = set1 | set2\n",
        "\n",
        "print(union_set)"
      ],
      "metadata": {
        "colab": {
          "base_uri": "https://localhost:8080/"
        },
        "id": "Lf8uLvSrQf00",
        "outputId": "158e4326-4518-4db1-da1b-22fde121ac24"
      },
      "execution_count": null,
      "outputs": [
        {
          "output_type": "stream",
          "name": "stdout",
          "text": [
            "{1, 2, 3, 4, 5}\n"
          ]
        }
      ]
    },
    {
      "cell_type": "code",
      "source": [
        "#20. Write a code to find the intersection of two sets {1, 2, 3} and {2, 3, 4}.\n",
        "set1 = {1, 2, 3}\n",
        "set2 = {2, 3, 4}\n",
        "\n",
        "intersection_set = set1.intersection(set2)  # or intersection_set = set1 & set2\n",
        "\n",
        "print(intersection_set)  # Output: {2, 3}"
      ],
      "metadata": {
        "colab": {
          "base_uri": "https://localhost:8080/"
        },
        "id": "JS6uUW2OQx0J",
        "outputId": "f64061b9-df21-4121-ec7a-5a5628b43f8f"
      },
      "execution_count": null,
      "outputs": [
        {
          "output_type": "stream",
          "name": "stdout",
          "text": [
            "{2, 3}\n"
          ]
        }
      ]
    },
    {
      "cell_type": "code",
      "source": [
        "#21. . Write a code to create a dictionary with the keys \"name\", \"age\", and \"city\", and print it.\n",
        "dict = {\"name\": \"Musadiq Rashid\", \"age\": 26, \"city\": \"Srinagar\"}\n",
        "print(dict)"
      ],
      "metadata": {
        "colab": {
          "base_uri": "https://localhost:8080/"
        },
        "id": "YFuJIlCXQ-45",
        "outputId": "fb0a8d3c-6601-4248-de50-668aca544aa5"
      },
      "execution_count": null,
      "outputs": [
        {
          "output_type": "stream",
          "name": "stdout",
          "text": [
            "{'name': 'Musadiq Rashid', 'age': 26, 'city': 'Srinagar'}\n"
          ]
        }
      ]
    },
    {
      "cell_type": "code",
      "source": [
        "#22.  Write a code to add a new key-value pair \"country\": \"USA\" to the dictionary {'name': 'John', 'age': 25}.\n",
        "\n",
        "dict = {'name': 'John', 'age': 25}\n",
        "\n",
        "dict['country'] = \"USA\"  # Add the new key-value pair\n",
        "\n",
        "print(dict)\n"
      ],
      "metadata": {
        "colab": {
          "base_uri": "https://localhost:8080/"
        },
        "id": "KtW8_ee2RjEz",
        "outputId": "e5c008cc-c303-4eb5-f0db-b17004136d60"
      },
      "execution_count": null,
      "outputs": [
        {
          "output_type": "stream",
          "name": "stdout",
          "text": [
            "{'name': 'John', 'age': 25, 'country': 'USA'}\n"
          ]
        }
      ]
    },
    {
      "cell_type": "code",
      "source": [
        "#23.  Write a code to access the value associated with the key \"name\" in the dictionary {'name': 'Alice', 'age': 30}.\n",
        "dict = {'name': 'Alice', 'age': 30}\n",
        "\n",
        "name_value = dict['name']  # Access the value using the key 'name'\n",
        "\n",
        "print(name_value)  # Output: Alice\n"
      ],
      "metadata": {
        "colab": {
          "base_uri": "https://localhost:8080/"
        },
        "id": "4iWGzsQ0SdJK",
        "outputId": "a6060092-c659-4f52-f519-025bc0bdbfb7"
      },
      "execution_count": null,
      "outputs": [
        {
          "output_type": "stream",
          "name": "stdout",
          "text": [
            "Alice\n"
          ]
        }
      ]
    },
    {
      "cell_type": "code",
      "source": [
        "#24. Write a code to remove the key \"age\" from the dictionary {'name': 'Bob', 'age': 22, 'city': 'New York'}.\n",
        "dict = {'name': 'Bob', 'age': 22, 'city': 'New York'}\n",
        "del dict['age']  # Remove the key-value pair with key 'age'\n",
        "\n",
        "print(dict)"
      ],
      "metadata": {
        "colab": {
          "base_uri": "https://localhost:8080/"
        },
        "id": "AJuDT1hGS5gw",
        "outputId": "31ea1c71-1bd7-4878-8b8d-9d93b326a381"
      },
      "execution_count": null,
      "outputs": [
        {
          "output_type": "stream",
          "name": "stdout",
          "text": [
            "{'name': 'Bob', 'city': 'New York'}\n"
          ]
        }
      ]
    },
    {
      "cell_type": "code",
      "source": [
        "#25. Write a code to check if the key \"city\" exists in the dictionary {'name': 'Alice', 'city': 'Paris'}.\n",
        "dict = {'name': 'Alice', 'city': 'Paris'}\n",
        "\n",
        "if 'city' in dict:\n",
        "    print(\"The key 'city' exists in the dictionary.\")\n",
        "else:\n",
        "    print(\"The key 'city' does not exist in the dictionary.\")"
      ],
      "metadata": {
        "colab": {
          "base_uri": "https://localhost:8080/"
        },
        "id": "hu5OX5qATd0n",
        "outputId": "dc1922ec-e6d3-4f30-bd72-7865d26563b6"
      },
      "execution_count": null,
      "outputs": [
        {
          "output_type": "stream",
          "name": "stdout",
          "text": [
            "The key 'city' exists in the dictionary.\n"
          ]
        }
      ]
    },
    {
      "cell_type": "code",
      "source": [
        "# 26. Write a code to create a list, a tuple, and a dictionary, and print them all.\n",
        "# Create a list\n",
        "list = [1, 2, 3, \"apple\", \"banana\"]\n",
        "\n",
        "# Create a tuple\n",
        "tuple = (10, 20, 30, \"red\", \"green\")\n",
        "\n",
        "# Create a dictionary\n",
        "dict = {\"name\": \"Alice\", \"age\": 30, \"city\": \"New York\"}\n",
        "\n",
        "# Print all three data structures\n",
        "print(\"List:\", list)\n",
        "print(\"Tuple:\", tuple)\n",
        "print(\"Dictionary:\", dict)"
      ],
      "metadata": {
        "colab": {
          "base_uri": "https://localhost:8080/"
        },
        "id": "zYEUfIYYTw08",
        "outputId": "e30e06eb-1eb7-4a8b-e704-1420d2fb58bc"
      },
      "execution_count": null,
      "outputs": [
        {
          "output_type": "stream",
          "name": "stdout",
          "text": [
            "List: [1, 2, 3, 'apple', 'banana']\n",
            "Tuple: (10, 20, 30, 'red', 'green')\n",
            "Dictionary: {'name': 'Alice', 'age': 30, 'city': 'New York'}\n"
          ]
        }
      ]
    },
    {
      "cell_type": "code",
      "source": [
        "#27. Write a code to create a list of 5 random numbers between 1 and 100, sort it in ascending order, and print the result.(replaced)\n",
        "import random\n",
        "\n",
        "# Generate 5 random numbers between 1 and 100\n",
        "random_numbers = [random.randint(1, 100) for _ in range(5)]\n",
        "\n",
        "# Sort the list in ascending order\n",
        "random_numbers.sort()\n",
        "\n",
        "# Print the sorted list\n",
        "print(\"Sorted random numbers:\", random_numbers)"
      ],
      "metadata": {
        "colab": {
          "base_uri": "https://localhost:8080/"
        },
        "id": "OFYu65F_Ub62",
        "outputId": "963b02c7-4466-4c6d-8fab-ba107e4e8af9"
      },
      "execution_count": null,
      "outputs": [
        {
          "output_type": "stream",
          "name": "stdout",
          "text": [
            "Sorted random numbers: [19, 31, 34, 43, 63]\n"
          ]
        }
      ]
    },
    {
      "cell_type": "code",
      "source": [
        "#28.  Write a code to create a list with strings and print the element at the third index.\n",
        "\n",
        "list = [\"apple\", \"banana\", \"orange\", \"grape\", \"kiwi\"]\n",
        "\n",
        "third_element = list[2]  # Access the element at index 2 (third element)\n",
        "\n",
        "print(third_element)  # Output: orange"
      ],
      "metadata": {
        "colab": {
          "base_uri": "https://localhost:8080/"
        },
        "id": "hNNBIOjJUz9s",
        "outputId": "3ecf8162-64e3-4c42-86e5-4a7644597a0e"
      },
      "execution_count": null,
      "outputs": [
        {
          "output_type": "stream",
          "name": "stdout",
          "text": [
            "orange\n"
          ]
        }
      ]
    },
    {
      "cell_type": "code",
      "source": [
        "#29. Write a code to combine two dictionaries into one and print the result.\n",
        "dict1 = {\"name\": \"Alice\", \"age\": 30}\n",
        "dict2 = {\"city\": \"New York\", \"country\": \"USA\"}\n",
        "\n",
        "combined_dict = {**dict1, **dict2}  # Combine the dictionaries"
      ],
      "metadata": {
        "id": "8bvAfdCGn5GN"
      },
      "execution_count": null,
      "outputs": []
    },
    {
      "source": [
        "#30. Write a code to convert a list of strings into a set\n",
        "list = [\"apple\", \"banana\", \"orange\", \"apple\", \"grape\"]\n",
        "\n",
        "set = set(list)  # Convert the list into a set\n",
        "\n",
        "print(set)  # Output: {'banana', 'orange', 'apple', 'grape'}\n"
      ],
      "cell_type": "code",
      "metadata": {
        "colab": {
          "base_uri": "https://localhost:8080/"
        },
        "id": "J30pYXlgXyDI",
        "outputId": "0beae112-ea44-404d-fc5d-1d7b6083600e"
      },
      "execution_count": 5,
      "outputs": [
        {
          "output_type": "stream",
          "name": "stdout",
          "text": [
            "{'apple', 'orange', 'grape', 'banana'}\n"
          ]
        }
      ]
    }
  ]
}